{
 "cells": [
  {
   "cell_type": "markdown",
   "metadata": {},
   "source": [
    "# Pythagoras Trees"
   ]
  },
  {
   "cell_type": "code",
   "execution_count": 1,
   "metadata": {},
   "outputs": [],
   "source": [
    "\"\"\"\n",
    "A notebook to produce the openSCAD instructions to draw pythagoras trees\n",
    "\"\"\"\n",
    "\n",
    "from math import degrees, radians, sin, asin, cos, sqrt, pi\n",
    "from queue import SimpleQueue\n",
    "from decimal import Decimal\n",
    "from random import randint"
   ]
  },
  {
   "cell_type": "code",
   "execution_count": 2,
   "metadata": {},
   "outputs": [],
   "source": [
    "# Global variables\n",
    "# a list of pythagorean triplets that can be chose in producing tree leave\n",
    "triplets     = [(3,4,5),(5,12,13),(8,15,17),(20,21,29),(28,45,53),(33,56,65),(48,55,73),(36,77,85),(39,80,89),(65,72,97)] # (12,35,37),(7,24,25),(16,63,65),(9,40,41),(11,60,61),(13,84,85)\n",
    "# All triplets up to 100. Above triplets have been filtered so that sides are not so similar in size.\n",
    "# [(3,4,5),(5,12,13),(8,15,17),(7,24,25),(20,21,29),(12,35,37),(9,40,41),(28,45,53),(11,60,61),(16,63,65),(33,56,65),(48,55,73),(13,84,85),(36,77,85),(39,80,89),(65,72,97)]\n"
   ]
  },
  {
   "cell_type": "code",
   "execution_count": 7,
   "metadata": {},
   "outputs": [],
   "source": [
    "def draw_leaf(leaf, q, max_order=4):\n",
    "    \"\"\" \n",
    "    Return the openSCAD instructions to draw a leaf of a pythagoras tree\n",
    "\n",
    "    Parameters:\n",
    "\n",
    "    leaf:   A dictionary containing\n",
    "                \"order\":                    # to control iterations \n",
    "                \"triplet\":                  # pythagorean triplet to use in the construction of the tree\n",
    "                \"gamma\":                    # angle, use pi/2 = 90 deg for pythagorean and pi/3 = 60 deg for equal sides (1,1,1)\n",
    "                \"origin\":                   # origin coordinates for a leaf\n",
    "                \"rotation\"                  # rotation of base tree square\n",
    "                \"side\":                     # size of tree square's side\n",
    "                \"alternate\":                # wether to alternate the triangle legs, boolean\n",
    "                \"random\":                   # wether to use random triplets from global `triplets` list, boolean\n",
    "           \n",
    "    q:          a queue of all the leaves that have to be drawn\n",
    "    \n",
    "    max_order:  the maximum iteration\n",
    "    \n",
    "    \n",
    "    Returns:\n",
    "\n",
    "    A string with openSCAD instructions to draw a leaf of a pythagoras tree.\n",
    "    Instructions of all leaves must be concatenated to draw the tree.\n",
    "    \"\"\"\n",
    "\n",
    "    ins   = []\n",
    "    triplet = leaf[\"triplet\"]\n",
    "    a,b,c = triplet\n",
    "    gamma = leaf[\"gamma\"]\n",
    "    x,y   = leaf[\"origin\"]\n",
    "    rot   = leaf[\"rotation\"]\n",
    "    sz    = leaf[\"side\"]\n",
    "    order = leaf[\"order\"]\n",
    "    alternate = leaf[\"alternate\"]\n",
    "    random = leaf[\"random\"]\n",
    "    if order > max_order: \n",
    "        return \"\"\n",
    "    ins.append(f\"translate([{x}, {y}, 0])\")\n",
    "    ins.append(f\"rotate([0, 0, {degrees(rot)}])\")\n",
    "    ins.append(f\"cuboid([{sz},{sz},5], center=false, fillet=0.3);\")\n",
    "    # leaf a\n",
    "    beta = asin(b*sin(gamma)/c)\n",
    "    la = { \"order\"   : order+1, \n",
    "           \"triplet\" : triplet, \n",
    "           \"gamma\"   : gamma,\n",
    "           \"origin\"  : (x + sz*cos(pi/2+rot), y + sz*sin(pi/2+rot)),\n",
    "           \"rotation\": rot + beta,\n",
    "           \"side\"    : sz * a / c,\n",
    "           \"alternate\": alternate, \"random\": random}\n",
    "    # leaf b\n",
    "    xa, ya = la[\"origin\"]\n",
    "    sza = la[\"side\"]\n",
    "    ins.append(f\"translate([{xa},{ya},0]) cylinder(h=1, d={sza/100});\")\n",
    "    xc, yc = (xa + sz*cos(rot), ya + sz*sin(rot))\n",
    "    ins.append(f\"translate([{xc},{yc},0]) cylinder(h=1, d={sza/100});\")\n",
    "    alfa = asin(a*sin(gamma)/c)\n",
    "    lb = { \"order\"   : order+1, \n",
    "           \"triplet\" : triplet, \n",
    "           \"gamma\"   : gamma,\n",
    "           \"origin\"  : (xa + sza*cos(rot+beta), ya + sza*sin(rot+beta)),\n",
    "           \"rotation\": rot - alfa,\n",
    "           \"side\"    : sz * b / c,\n",
    "           \"alternate\": alternate, \"random\": random}\n",
    "    xb, yb = lb[\"origin\"]\n",
    "    szb = lb[\"side\"]\n",
    "    ins.append(f\"translate([{xb},{yb},0]) cylinder(h=1, d={sza/100});\")\n",
    "    if random == True:\n",
    "        #trp = triplets[randint(0,len(triplets)-1)]\n",
    "        la[\"triplet\"] = triplets[randint(0,len(triplets)-1)] #trp\n",
    "        lb[\"triplet\"] = triplets[randint(0,len(triplets)-1)] #trp\n",
    "    if alternate == True and order%2 == 0:\n",
    "        la[\"triplet\"] = (b,a,c)\n",
    "        lb[\"triplet\"] = (b,a,c)\n",
    "    q.put(la)\n",
    "    q.put(lb)\n",
    "    return \" \".join(ins)"
   ]
  },
  {
   "cell_type": "code",
   "execution_count": 8,
   "metadata": {},
   "outputs": [],
   "source": [
    "def draw_tree(q, max_order=2):\n",
    "    instructions = []\n",
    "    ins = \"\\n\"\n",
    "    while ins != \"\":\n",
    "        ins = draw_leaf(q.get(), q, max_order=max_order)\n",
    "        instructions.append(ins)                      \n",
    "    return \"\\n\".join(instructions)"
   ]
  },
  {
   "cell_type": "code",
   "execution_count": 9,
   "metadata": {},
   "outputs": [
    {
     "name": "stdout",
     "output_type": "stream",
     "text": [
      "translate([0.0, 0.0, 0]) rotate([0, 0, 0.0]) cuboid([20,20,5], center=false, fillet=0.3); translate([1.2246467991473533e-15,20.0,0]) cylinder(h=1, d=0.12); translate([20.0,20.0,0]) cylinder(h=1, d=0.12); translate([7.2,29.6,0]) cylinder(h=1, d=0.12);\n",
      "translate([1.2246467991473533e-15, 20.0, 0]) rotate([0, 0, 53.13010235415599]) cuboid([12.0,12.0,5], center=false, fillet=0.3); translate([-9.6,27.2,0]) cylinder(h=1, d=0.096); translate([-2.4000000000000004,36.8,0]) cylinder(h=1, d=0.096); translate([-9.6,36.8,0]) cylinder(h=1, d=0.096);\n",
      "translate([7.2, 29.6, 0]) rotate([0, 0, -36.86989764584402]) cuboid([16.0,16.0,5], center=false, fillet=0.3); translate([16.8,42.4,0]) cylinder(h=1, d=0.128); translate([29.6,32.8,0]) cylinder(h=1, d=0.128); translate([29.6,42.4,0]) cylinder(h=1, d=0.128);\n",
      "translate([-9.6, 27.2, 0]) rotate([0, 0, 90.0]) cuboid([9.6,9.6,5], center=false, fillet=0.3); translate([-19.2,27.2,0]) cylinder(h=1, d=0.0768); translate([-19.2,36.8,0]) cylinder(h=1, d=0.0768); translate([-23.808,33.344,0]) cylinder(h=1, d=0.0768);\n",
      "translate([-9.6, 36.8, 0]) rotate([0, 0, 0.0]) cuboid([7.2,7.2,5], center=false, fillet=0.3); translate([-9.6,44.0,0]) cylinder(h=1, d=0.0576); translate([-2.3999999999999995,44.0,0]) cylinder(h=1, d=0.0576); translate([-4.992,47.456,0]) cylinder(h=1, d=0.0576);\n",
      "translate([16.8, 42.4, 0]) rotate([0, 0, 0.0]) cuboid([12.8,12.8,5], center=false, fillet=0.3); translate([16.8,55.2,0]) cylinder(h=1, d=0.1024); translate([29.6,55.2,0]) cylinder(h=1, d=0.1024); translate([24.992,61.344,0]) cylinder(h=1, d=0.1024);\n",
      "translate([29.6, 42.4, 0]) rotate([0, 0, -90.0]) cuboid([9.6,9.6,5], center=false, fillet=0.3); translate([39.2,42.4,0]) cylinder(h=1, d=0.0768); translate([39.2,32.8,0]) cylinder(h=1, d=0.0768); translate([43.80800000000001,36.256,0]) cylinder(h=1, d=0.0768);\n",
      "\n"
     ]
    }
   ],
   "source": [
    "# Example\n",
    "\n",
    "leafs = SimpleQueue()\n",
    "leafs.put({ \"order\": 0,                 # to control iterations \n",
    "            \"triplet\":(3,4,5),          # pythagorean triplet to use in the construction of the tree\n",
    "            \"gamma\":pi/2,               # angle, use pi/2 = 90 deg for pythagorean and pi/3 = 60 deg for equal sides (1,1,1)\n",
    "            \"origin\":(0.0, 0.0),        # origin coordinates for a leaf\n",
    "            \"rotation\":radians(0),      # rotation of base tree square\n",
    "            \"side\":20,                  # size of tree square's side\n",
    "            \"alternate\":True,           # wether to alternate the triangle legs\n",
    "            \"random\":False              # wether to use random triplets from global `triplets` list\n",
    "})\n",
    "\n",
    "print(draw_tree(leafs))"
   ]
  }
 ],
 "metadata": {
  "kernelspec": {
   "display_name": "Python 3.10.4 64-bit",
   "language": "python",
   "name": "python3"
  },
  "language_info": {
   "codemirror_mode": {
    "name": "ipython",
    "version": 3
   },
   "file_extension": ".py",
   "mimetype": "text/x-python",
   "name": "python",
   "nbconvert_exporter": "python",
   "pygments_lexer": "ipython3",
   "version": "3.10.4"
  },
  "vscode": {
   "interpreter": {
    "hash": "916dbcbb3f70747c44a77c7bcd40155683ae19c65e1c03b4aa3499c5328201f1"
   }
  }
 },
 "nbformat": 4,
 "nbformat_minor": 4
}
