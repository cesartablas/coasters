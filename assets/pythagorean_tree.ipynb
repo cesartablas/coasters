{
 "cells": [
  {
   "cell_type": "code",
   "execution_count": null,
   "metadata": {},
   "outputs": [
    {
     "ename": "",
     "evalue": "",
     "output_type": "error",
     "traceback": [
      "\u001b[1;31mJupyter cannot be started. Error attempting to locate Jupyter: Running cells with 'Python 3.10.4 64-bit' requires jupyter and notebook package.\n",
      "\u001b[1;31mRun the following command to install 'jupyter and notebook' into the Python environment. \n",
      "\u001b[1;31mCommand: 'python -m pip install jupyter notebook -U\n",
      "\u001b[1;31mor\n",
      "\u001b[1;31mconda install jupyter notebook -U'\n",
      "Click <a href='https://aka.ms/installJupyterForVSCode'>here</a> for more info."
     ]
    }
   ],
   "source": [
    "from math import degrees, radians, sin, asin, cos, sqrt, pi\n",
    "from queue import SimpleQueue\n",
    "from decimal import Decimal\n",
    "from random import randint"
   ]
  },
  {
   "cell_type": "code",
   "execution_count": 30,
   "metadata": {},
   "outputs": [],
   "source": [
    "def draw(leaf, q, max_order=4):\n",
    "    ins   = []\n",
    "    a,b,c = leaf[\"triplet\"]\n",
    "    gamma = leaf[\"gamma\"]\n",
    "    x,y   = leaf[\"origin\"]\n",
    "    rot   = leaf[\"rotation\"]\n",
    "    sz    = leaf[\"side\"]\n",
    "    order = leaf[\"order\"]\n",
    "    alternate = leaf[\"alternate\"]\n",
    "    random = leaf[\"random\"]\n",
    "    if order > max_order: \n",
    "        return \"\"\n",
    "    ins.append(f\"translate([{x}, {y}, 0])\")\n",
    "    ins.append(f\"rotate([0, 0, {degrees(rot)}])\")\n",
    "    ins.append(f\"cuboid([{sz},{sz},5], center=false, fillet=0.3);\")\n",
    "    # leaf a\n",
    "    beta = asin(b*sin(gamma)/c)\n",
    "    la = { \"order\"   : order+1, \n",
    "           \"triplet\" : triplet, \n",
    "           \"gamma\"   : gamma,\n",
    "           \"origin\"  : (x + sz*cos(pi/2+rot), y + sz*sin(pi/2+rot)),\n",
    "           \"rotation\": rot + beta,\n",
    "           \"side\"    : sz * a / c,\n",
    "           \"alternate\": alternate, \"random\": random}\n",
    "    # leaf b\n",
    "    xa, ya = la[\"origin\"]\n",
    "    sza = la[\"side\"]\n",
    "    ins.append(f\"translate([{xa},{ya},0]) cylinder(h=1, d={sza/100});\")\n",
    "    xc, yc = (xa + sz*cos(rot), ya + sz*sin(rot))\n",
    "    ins.append(f\"translate([{xc},{yc},0]) cylinder(h=1, d={sza/100});\")\n",
    "    alfa = asin(a*sin(gamma)/c)\n",
    "    lb = { \"order\"   : order+1, \n",
    "           \"triplet\" : triplet, \n",
    "           \"gamma\"   : gamma,\n",
    "           \"origin\"  : (xa + sza*cos(rot+beta), ya + sza*sin(rot+beta)),\n",
    "           \"rotation\": rot - alfa,\n",
    "           \"side\"    : sz * b / c,\n",
    "           \"alternate\": alternate, \"random\": random}\n",
    "    xb, yb = lb[\"origin\"]\n",
    "    szb = lb[\"side\"]\n",
    "    ins.append(f\"translate([{xb},{yb},0]) cylinder(h=1, d={sza/100});\")\n",
    "    if random == True:\n",
    "        #trp = triplets[randint(0,len(triplets)-1)]\n",
    "        la[\"triplet\"] = triplets[randint(0,len(triplets)-1)]#trp\n",
    "        lb[\"triplet\"] = triplets[randint(0,len(triplets)-1)]#trp\n",
    "    if alternate == True and order%2 == 0:\n",
    "        la[\"triplet\"] = (b,a,c)\n",
    "        lb[\"triplet\"] = (b,a,c)\n",
    "    q.put(la)\n",
    "    q.put(lb)\n",
    "    return \" \".join(ins)"
   ]
  },
  {
   "cell_type": "code",
   "execution_count": 31,
   "metadata": {},
   "outputs": [],
   "source": [
    "instructions = []\n",
    "base         = 20\n",
    "rot          = 0\n",
    "triplet      = (3, 4, 5)\n",
    "gamma        = pi/2\n",
    "# pi/3 for equal squares (1,1,1)\n",
    "max_order    = 6\n",
    "triplets     = [(3,4,5),(5,12,13),(8,15,17),(20,21,29),(28,45,53),(33,56,65),(48,55,73),(36,77,85),(39,80,89),(65,72,97)] # (12,35,37),(7,24,25),(16,63,65),(9,40,41),(11,60,61),(13,84,85)\n",
    "# [(3,4,5),(5,12,13),(8,15,17),(7,24,25),(20,21,29),(12,35,37),(9,40,41),(28,45,53),(11,60,61),(16,63,65),(33,56,65),(48,55,73),(13,84,85),(36,77,85),(39,80,89),(65,72,97)]\n",
    "\n",
    "leafs = SimpleQueue()\n",
    "leafs.put({\"order\":     0, \n",
    "           \"triplet\":   triplet, \n",
    "           \"gamma\":     pi/2, \n",
    "           \"origin\":    (0.0, 0.0), \n",
    "           \"rotation\":  radians(rot), \n",
    "           \"side\":      base, \n",
    "           \"alternate\": True, \n",
    "           \"random\":    False})\n",
    "\n",
    "# leafs.put({\"order\":0, \"triplet\":triplet, \"gamma\":pi/2, \"origin\":(0.0, 0.0), \"rotation\":radians(rot), \"side\":base, \"alternate\":True, \"random\":False})\n",
    "\n",
    "\n",
    "while True:\n",
    "    ins = draw(leafs.get(), leafs, max_order=max_order)\n",
    "    if ins == \"\":\n",
    "        break\n",
    "        \n",
    "    instructions.append(ins)\n",
    "                        \n",
    "#print(\"\\n\".join(instructions))"
   ]
  },
  {
   "cell_type": "code",
   "execution_count": 32,
   "metadata": {},
   "outputs": [],
   "source": [
    "with open(\"/home/cesar/code/openscad/coasters/hexagonal/pyt_tree_instructions2.scad\", \"w\") as f:\n",
    "    f.write(\"\\n\".join(instructions))"
   ]
  },
  {
   "cell_type": "code",
   "execution_count": null,
   "metadata": {},
   "outputs": [],
   "source": []
  }
 ],
 "metadata": {
  "kernelspec": {
   "display_name": "Python 3.10.4 64-bit",
   "language": "python",
   "name": "python3"
  },
  "language_info": {
   "codemirror_mode": {
    "name": "ipython",
    "version": 3
   },
   "file_extension": ".py",
   "mimetype": "text/x-python",
   "name": "python",
   "nbconvert_exporter": "python",
   "pygments_lexer": "ipython3",
   "version": "3.10.4"
  },
  "vscode": {
   "interpreter": {
    "hash": "916dbcbb3f70747c44a77c7bcd40155683ae19c65e1c03b4aa3499c5328201f1"
   }
  }
 },
 "nbformat": 4,
 "nbformat_minor": 4
}
